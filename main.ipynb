{
 "cells": [
  {
   "cell_type": "code",
   "execution_count": 40,
   "metadata": {},
   "outputs": [],
   "source": [
    "import pandas as pd\n",
    "import numpy as np\n",
    "from sklearn.metrics import roc_auc_score\n",
    "from sklearn.model_selection import train_test_split\n",
    "from xgboost import XGBClassifier\n",
    "from sklearn.metrics import confusion_matrix\n",
    "from sklearn.model_selection import cross_val_predict\n",
    "from sklearn.preprocessing import MinMaxScaler"
   ]
  },
  {
   "cell_type": "code",
   "execution_count": 24,
   "metadata": {},
   "outputs": [
    {
     "name": "stdout",
     "output_type": "stream",
     "text": [
      "(307511, 122)\n",
      "(48744, 121)\n"
     ]
    }
   ],
   "source": [
    "\n",
    "data = pd.read_csv('data/application_train.csv')\n",
    "data_submission = pd.read_csv('data/application_test.csv')\n",
    "submission_id = data_submission['SK_ID_CURR']\n",
    "\n",
    "def process_data(data):\n",
    "    Null_dict = dict()\n",
    "\n",
    "    for column in ['NAME_HOUSING_TYPE','OCCUPATION_TYPE','WEEKDAY_APPR_PROCESS_START','ORGANIZATION_TYPE','FONDKAPREMONT_MODE','HOUSETYPE_MODE','WALLSMATERIAL_MODE','EMERGENCYSTATE_MODE']:\n",
    "        Null_dict[column] = 0\n",
    "\n",
    "\n",
    "    for column in ['NAME_HOUSING_TYPE','OCCUPATION_TYPE','WEEKDAY_APPR_PROCESS_START','ORGANIZATION_TYPE','FONDKAPREMONT_MODE','HOUSETYPE_MODE','WALLSMATERIAL_MODE','EMERGENCYSTATE_MODE']:\n",
    "        if data[column].isnull().sum()>0:\n",
    "            Null_dict[column] = data[column].isnull().sum()\n",
    "\n",
    "        if (data[column]=='XNA').sum()>0:\n",
    "            Null_dict[column] = (data[column]=='XNA').sum()\n",
    "\n",
    "    for (key,value) in Null_dict.items():\n",
    "        Null_dict[key] = float(value)/data.shape[0]\n",
    "\n",
    "    def replace_binary_categorical_var(df, column_name):\n",
    "        categories = list(df[column_name].unique())\n",
    "        if np.nan in categories:\n",
    "            categories.remove(np.nan)\n",
    "        assert(len(categories) == 2)\n",
    "        df.loc[df[column_name] == categories[0], column_name] = 0\n",
    "        df.loc[df[column_name] == categories[1], column_name] = 1    \n",
    "\n",
    "    for element in data['FONDKAPREMONT_MODE']:\n",
    "        if element == 'XNA':\n",
    "            element = np.nan\n",
    "    # Name contract type is either Cash loans or Revolving loans\n",
    "    replace_binary_categorical_var(data, 'NAME_CONTRACT_TYPE')\n",
    "\n",
    "    # Gender is either male, female or N/A. We'll consider it binary\n",
    "    data['CODE_GENDER'] = data['CODE_GENDER'].replace('XNA', np.nan)\n",
    "    replace_binary_categorical_var(data, 'CODE_GENDER')\n",
    "\n",
    "    # FLAG_OWN_CAR and FLAG_OWN_REALTY are flags, either Y or N\n",
    "    replace_binary_categorical_var(data, 'FLAG_OWN_CAR')\n",
    "    replace_binary_categorical_var(data, 'FLAG_OWN_REALTY')\n",
    "\n",
    "    # We'll consider unknown to be N/A\n",
    "    data['NAME_FAMILY_STATUS'] = data['NAME_FAMILY_STATUS'].replace('Unknown', np.nan)\n",
    "\n",
    "    # All these are categorical\n",
    "    data = pd.get_dummies(data, columns=['NAME_TYPE_SUITE', 'NAME_INCOME_TYPE', 'NAME_EDUCATION_TYPE', 'NAME_FAMILY_STATUS', 'NAME_HOUSING_TYPE','OCCUPATION_TYPE','WEEKDAY_APPR_PROCESS_START','ORGANIZATION_TYPE','FONDKAPREMONT_MODE','HOUSETYPE_MODE','WALLSMATERIAL_MODE','EMERGENCYSTATE_MODE'])\n",
    "\n",
    "    data = data.fillna(data.median())\n",
    "\n",
    "    data = data.drop('SK_ID_CURR', axis=1)\n",
    "    return data\n",
    "\n",
    "data = process_data(data)\n",
    "data_submission = process_data(data_submission)"
   ]
  },
  {
   "cell_type": "code",
   "execution_count": 31,
   "metadata": {},
   "outputs": [],
   "source": [
    "set(data.columns) - set(data_submission.columns)\n",
    "data_submission['NAME_INCOME_TYPE_Maternity leave'] = 0"
   ]
  },
  {
   "cell_type": "code",
   "execution_count": 19,
   "metadata": {},
   "outputs": [],
   "source": [
    "data_x = data.drop('TARGET', axis=1).as_matrix()\n",
    "data_y = data['TARGET'].as_matrix()\n",
    "data_submission = data_submission.as_matrix()\n",
    "\n",
    "train_x, test_x, train_y, test_y = train_test_split(data_x, data_y, test_size=0.05)\n",
    "del data_x, data_y"
   ]
  },
  {
   "cell_type": "code",
   "execution_count": 41,
   "metadata": {},
   "outputs": [],
   "source": [
    "scaler = MinMaxScaler()\n",
    "train_x = scaler.fit_transform(train_x)\n",
    "test_x = scaler.transform(test_x)\n",
    "data_submission = scaler.transform(data_submission)"
   ]
  },
  {
   "cell_type": "code",
   "execution_count": 42,
   "metadata": {},
   "outputs": [],
   "source": [
    "from sklearn.linear_model import LogisticRegression\n",
    "\n",
    "lr = LogisticRegression()\n",
    "lr.fit(train_x, train_y)"
   ]
  },
  {
   "cell_type": "code",
   "execution_count": 44,
   "metadata": {},
   "outputs": [
    {
     "data": {
      "text/plain": [
       "0.74324704030956346"
      ]
     },
     "execution_count": 44,
     "metadata": {},
     "output_type": "execute_result"
    }
   ],
   "source": [
    "roc_auc_score(test_y, lr.predict_proba(test_x)[:,1])"
   ]
  },
  {
   "cell_type": "code",
   "execution_count": 45,
   "metadata": {},
   "outputs": [
    {
     "data": {
      "text/plain": [
       "XGBClassifier(base_score=0.5, booster='gbtree', colsample_bylevel=1,\n",
       "       colsample_bytree=1, gamma=0, learning_rate=0.1, max_delta_step=0,\n",
       "       max_depth=3, min_child_weight=1, missing=None, n_estimators=100,\n",
       "       n_jobs=1, nthread=None, objective='binary:logistic', random_state=0,\n",
       "       reg_alpha=0, reg_lambda=1, scale_pos_weight=1, seed=None,\n",
       "       silent=True, subsample=1)"
      ]
     },
     "execution_count": 45,
     "metadata": {},
     "output_type": "execute_result"
    }
   ],
   "source": [
    "xgb = XGBClassifier()\n",
    "xgb.fit(train_x, train_y)"
   ]
  },
  {
   "cell_type": "code",
   "execution_count": 46,
   "metadata": {},
   "outputs": [
    {
     "data": {
      "text/plain": [
       "0.74907772131203365"
      ]
     },
     "execution_count": 46,
     "metadata": {},
     "output_type": "execute_result"
    }
   ],
   "source": [
    "roc_auc_score(test_y, xgb.predict_proba(test_x)[:,1])"
   ]
  },
  {
   "cell_type": "code",
   "execution_count": 47,
   "metadata": {},
   "outputs": [
    {
     "data": {
      "text/plain": [
       "array([[14135,     3],\n",
       "       [ 1229,     9]])"
      ]
     },
     "execution_count": 47,
     "metadata": {},
     "output_type": "execute_result"
    }
   ],
   "source": [
    "confusion_matrix(test_y,xgb.predict(test_x))"
   ]
  },
  {
   "cell_type": "code",
   "execution_count": 17,
   "metadata": {},
   "outputs": [
    {
     "data": {
      "text/plain": [
       "array([0, 0, 0, ..., 0, 0, 0])"
      ]
     },
     "execution_count": 17,
     "metadata": {},
     "output_type": "execute_result"
    }
   ],
   "source": [
    "proba = cross_val_predict(xgb,train_x,train_y, method='predict_proba')"
   ]
  },
  {
   "cell_type": "code",
   "execution_count": 49,
   "metadata": {},
   "outputs": [],
   "source": [
    "predicted = xgb.predict_proba(data_submission)[:, 1]\n",
    "\n",
    "results = pd.DataFrame({'SK_ID_CURR': submission_id, 'TARGET': predicted})\n",
    "\n",
    "results.to_csv('predictions.csv', index=False)"
   ]
  },
  {
   "cell_type": "code",
   "execution_count": null,
   "metadata": {},
   "outputs": [],
   "source": []
  }
 ],
 "metadata": {
  "kernelspec": {
   "display_name": "Python 2",
   "language": "python",
   "name": "python2"
  },
  "language_info": {
   "codemirror_mode": {
    "name": "ipython",
    "version": 2
   },
   "file_extension": ".py",
   "mimetype": "text/x-python",
   "name": "python",
   "nbconvert_exporter": "python",
   "pygments_lexer": "ipython2",
   "version": "2.7.14"
  }
 },
 "nbformat": 4,
 "nbformat_minor": 2
}
