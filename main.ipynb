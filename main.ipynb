{
 "cells": [
  {
   "cell_type": "code",
   "execution_count": 3,
   "metadata": {},
   "outputs": [
    {
     "name": "stdout",
     "output_type": "stream",
     "text": [
      "{'FONDKAPREMONT_MODE': 0.6838617155158677, 'EMERGENCYSTATE_MODE': 0.47398304450897694, 'ORGANIZATION_TYPE': 0.18007160719453938, 'WALLSMATERIAL_MODE': 0.508407829313423, 'WEEKDAY_APPR_PROCESS_START': 0.0, 'NAME_HOUSING_TYPE': 0.0, 'OCCUPATION_TYPE': 0.31345545362604915, 'HOUSETYPE_MODE': 0.50176091261776}\n"
     ]
    }
   ],
   "source": [
    "import pandas as pd\n",
    "import numpy as np\n",
    "\n",
    "data = pd.read_csv('data/application_train.csv')\n",
    "\n",
    "Null_dict = dict()\n",
    "\n",
    "for column in ['NAME_HOUSING_TYPE','OCCUPATION_TYPE','WEEKDAY_APPR_PROCESS_START','ORGANIZATION_TYPE','FONDKAPREMONT_MODE','HOUSETYPE_MODE','WALLSMATERIAL_MODE','EMERGENCYSTATE_MODE']:\n",
    "    Null_dict[column] = 0\n",
    "\n",
    "\n",
    "for column in ['NAME_HOUSING_TYPE','OCCUPATION_TYPE','WEEKDAY_APPR_PROCESS_START','ORGANIZATION_TYPE','FONDKAPREMONT_MODE','HOUSETYPE_MODE','WALLSMATERIAL_MODE','EMERGENCYSTATE_MODE']:\n",
    "    if data[column].isnull().sum()>0:\n",
    "        Null_dict[column] = data[column].isnull().sum()\n",
    "        \n",
    "    if (data[column]=='XNA').sum()>0:\n",
    "        Null_dict[column] = (data[column]=='XNA').sum()\n",
    "\n",
    "for (key,value) in Null_dict.items():\n",
    "    Null_dict[key] = float(value)/data.shape[0]\n",
    "    \n",
    "def replace_binary_categorical_var(df, column_name):\n",
    "    categories = list(df[column_name].unique())\n",
    "    if np.nan in categories:\n",
    "        categories.remove(np.nan)\n",
    "    assert(len(categories) == 2)\n",
    "    df.loc[df[column_name] == categories[0], column_name] = 0\n",
    "    df.loc[df[column_name] == categories[1], column_name] = 1    \n",
    "    \n",
    "for element in data['FONDKAPREMONT_MODE']:\n",
    "    if element == 'XNA':\n",
    "        element = np.nan\n",
    "# Name contract type is either Cash loans or Revolving loans\n",
    "replace_binary_categorical_var(data, 'NAME_CONTRACT_TYPE')\n",
    "\n",
    "# Gender is either male, female or N/A. We'll consider it binary\n",
    "data['CODE_GENDER'] = data['CODE_GENDER'].replace('XNA', np.nan)\n",
    "replace_binary_categorical_var(data, 'CODE_GENDER')\n",
    "\n",
    "# FLAG_OWN_CAR and FLAG_OWN_REALTY are flags, either Y or N\n",
    "replace_binary_categorical_var(data, 'FLAG_OWN_CAR')\n",
    "replace_binary_categorical_var(data, 'FLAG_OWN_REALTY')\n",
    "\n",
    "# We'll consider unknown to be N/A\n",
    "data['NAME_FAMILY_STATUS'] = data['NAME_FAMILY_STATUS'].replace('Unknown', np.nan)\n",
    "\n",
    "# All these are categorical\n",
    "data = pd.get_dummies(data, columns=['NAME_TYPE_SUITE', 'NAME_INCOME_TYPE', 'NAME_EDUCATION_TYPE', 'NAME_FAMILY_STATUS', 'NAME_HOUSING_TYPE','OCCUPATION_TYPE','WEEKDAY_APPR_PROCESS_START','ORGANIZATION_TYPE','FONDKAPREMONT_MODE','HOUSETYPE_MODE','WALLSMATERIAL_MODE','EMERGENCYSTATE_MODE'])"
   ]
  },
  {
   "cell_type": "code",
   "execution_count": null,
   "metadata": {},
   "outputs": [],
   "source": []
  }
 ],
 "metadata": {
  "kernelspec": {
   "display_name": "Python 2",
   "language": "python",
   "name": "python2"
  },
  "language_info": {
   "codemirror_mode": {
    "name": "ipython",
    "version": 2
   },
   "file_extension": ".py",
   "mimetype": "text/x-python",
   "name": "python",
   "nbconvert_exporter": "python",
   "pygments_lexer": "ipython2",
   "version": "2.7.14"
  }
 },
 "nbformat": 4,
 "nbformat_minor": 2
}
