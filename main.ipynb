{
 "cells": [
  {
   "cell_type": "code",
   "execution_count": 1,
   "metadata": {},
   "outputs": [],
   "source": [
    "import pandas as pd\n",
    "import numpy as np\n",
    "from sklearn.metrics import roc_auc_score\n",
    "from sklearn.model_selection import train_test_split"
   ]
  },
  {
   "cell_type": "code",
   "execution_count": 2,
   "metadata": {},
   "outputs": [],
   "source": [
    "\n",
    "\n",
    "data = pd.read_csv('data/application_train.csv')\n",
    "\n",
    "Null_dict = dict()\n",
    "\n",
    "for column in ['NAME_HOUSING_TYPE','OCCUPATION_TYPE','WEEKDAY_APPR_PROCESS_START','ORGANIZATION_TYPE','FONDKAPREMONT_MODE','HOUSETYPE_MODE','WALLSMATERIAL_MODE','EMERGENCYSTATE_MODE']:\n",
    "    Null_dict[column] = 0\n",
    "\n",
    "\n",
    "for column in ['NAME_HOUSING_TYPE','OCCUPATION_TYPE','WEEKDAY_APPR_PROCESS_START','ORGANIZATION_TYPE','FONDKAPREMONT_MODE','HOUSETYPE_MODE','WALLSMATERIAL_MODE','EMERGENCYSTATE_MODE']:\n",
    "    if data[column].isnull().sum()>0:\n",
    "        Null_dict[column] = data[column].isnull().sum()\n",
    "        \n",
    "    if (data[column]=='XNA').sum()>0:\n",
    "        Null_dict[column] = (data[column]=='XNA').sum()\n",
    "\n",
    "for (key,value) in Null_dict.items():\n",
    "    Null_dict[key] = float(value)/data.shape[0]\n",
    "    \n",
    "def replace_binary_categorical_var(df, column_name):\n",
    "    categories = list(df[column_name].unique())\n",
    "    if np.nan in categories:\n",
    "        categories.remove(np.nan)\n",
    "    assert(len(categories) == 2)\n",
    "    df.loc[df[column_name] == categories[0], column_name] = 0\n",
    "    df.loc[df[column_name] == categories[1], column_name] = 1    \n",
    "    \n",
    "for element in data['FONDKAPREMONT_MODE']:\n",
    "    if element == 'XNA':\n",
    "        element = np.nan\n",
    "# Name contract type is either Cash loans or Revolving loans\n",
    "replace_binary_categorical_var(data, 'NAME_CONTRACT_TYPE')\n",
    "\n",
    "# Gender is either male, female or N/A. We'll consider it binary\n",
    "data['CODE_GENDER'] = data['CODE_GENDER'].replace('XNA', np.nan)\n",
    "replace_binary_categorical_var(data, 'CODE_GENDER')\n",
    "\n",
    "# FLAG_OWN_CAR and FLAG_OWN_REALTY are flags, either Y or N\n",
    "replace_binary_categorical_var(data, 'FLAG_OWN_CAR')\n",
    "replace_binary_categorical_var(data, 'FLAG_OWN_REALTY')\n",
    "\n",
    "# We'll consider unknown to be N/A\n",
    "data['NAME_FAMILY_STATUS'] = data['NAME_FAMILY_STATUS'].replace('Unknown', np.nan)\n",
    "\n",
    "# All these are categorical\n",
    "data = pd.get_dummies(data, columns=['NAME_TYPE_SUITE', 'NAME_INCOME_TYPE', 'NAME_EDUCATION_TYPE', 'NAME_FAMILY_STATUS', 'NAME_HOUSING_TYPE','OCCUPATION_TYPE','WEEKDAY_APPR_PROCESS_START','ORGANIZATION_TYPE','FONDKAPREMONT_MODE','HOUSETYPE_MODE','WALLSMATERIAL_MODE','EMERGENCYSTATE_MODE'])\n",
    "\n",
    "data = data.fillna(data.median())\n",
    "\n",
    "data = data.drop('SK_ID_CURR', axis=1)"
   ]
  },
  {
   "cell_type": "code",
   "execution_count": 7,
   "metadata": {},
   "outputs": [],
   "source": [
    "data_x = data.drop('TARGET', axis=1).as_matrix()\n",
    "data_y = data['TARGET'].as_matrix()\n",
    "\n",
    "train_x, test_x, train_y, test_y = train_test_split(data_x, data_y, test_size=0.3)\n",
    "del data_x, data_y"
   ]
  },
  {
   "cell_type": "code",
   "execution_count": 8,
   "metadata": {},
   "outputs": [],
   "source": [
    "from sklearn.linear_model import LogisticRegression"
   ]
  },
  {
   "cell_type": "code",
   "execution_count": 9,
   "metadata": {},
   "outputs": [
    {
     "data": {
      "text/plain": [
       "LogisticRegression(C=1.0, class_weight=None, dual=False, fit_intercept=True,\n",
       "          intercept_scaling=1, max_iter=100, multi_class='ovr', n_jobs=1,\n",
       "          penalty='l2', random_state=None, solver='liblinear', tol=0.0001,\n",
       "          verbose=0, warm_start=False)"
      ]
     },
     "execution_count": 9,
     "metadata": {},
     "output_type": "execute_result"
    }
   ],
   "source": [
    "lr = LogisticRegression()\n",
    "lr.fit(train_x, train_y)"
   ]
  },
  {
   "cell_type": "code",
   "execution_count": 10,
   "metadata": {},
   "outputs": [
    {
     "data": {
      "text/plain": [
       "0.62079571467645356"
      ]
     },
     "execution_count": 10,
     "metadata": {},
     "output_type": "execute_result"
    }
   ],
   "source": [
    "roc_auc_score(test_y, lr.predict_proba(test_x)[:,1])"
   ]
  },
  {
   "cell_type": "code",
   "execution_count": null,
   "metadata": {},
   "outputs": [],
   "source": []
  }
 ],
 "metadata": {
  "kernelspec": {
   "display_name": "Python 2",
   "language": "python",
   "name": "python2"
  },
  "language_info": {
   "codemirror_mode": {
    "name": "ipython",
    "version": 2
   },
   "file_extension": ".py",
   "mimetype": "text/x-python",
   "name": "python",
   "nbconvert_exporter": "python",
   "pygments_lexer": "ipython2",
   "version": "2.7.14"
  }
 },
 "nbformat": 4,
 "nbformat_minor": 2
}
