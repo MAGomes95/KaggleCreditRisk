{
 "cells": [
  {
   "cell_type": "code",
   "execution_count": 103,
   "metadata": {},
   "outputs": [],
   "source": [
    "import pandas as pd\n",
    "import numpy as np\n",
    "from sklearn.metrics import roc_auc_score\n",
    "from sklearn.model_selection import train_test_split\n",
    "from xgboost import XGBClassifier\n",
    "from sklearn.metrics import confusion_matrix\n",
    "from sklearn.model_selection import cross_val_predict\n",
    "from sklearn.preprocessing import MinMaxScaler"
   ]
  },
  {
   "cell_type": "code",
   "execution_count": 104,
   "metadata": {},
   "outputs": [
    {
     "name": "stdout",
     "output_type": "stream",
     "text": [
      "(307511, 122)\n",
      "(48744, 121)\n"
     ]
    }
   ],
   "source": [
    "data = pd.read_csv('data/application_train.csv')\n",
    "data_submission = pd.read_csv('data/application_test.csv')\n",
    "submission_id = data_submission['SK_ID_CURR']\n",
    "\n",
    "print(data.shape)\n",
    "print(data_submission.shape)\n",
    "\n",
    "def process_data(data):\n",
    "    Null_dict = dict()\n",
    "\n",
    "    for column in ['NAME_HOUSING_TYPE','OCCUPATION_TYPE','WEEKDAY_APPR_PROCESS_START','ORGANIZATION_TYPE','FONDKAPREMONT_MODE','HOUSETYPE_MODE','WALLSMATERIAL_MODE','EMERGENCYSTATE_MODE']:\n",
    "        Null_dict[column] = 0\n",
    "\n",
    "\n",
    "    for column in ['NAME_HOUSING_TYPE','OCCUPATION_TYPE','WEEKDAY_APPR_PROCESS_START','ORGANIZATION_TYPE','FONDKAPREMONT_MODE','HOUSETYPE_MODE','WALLSMATERIAL_MODE','EMERGENCYSTATE_MODE']:\n",
    "        if data[column].isnull().sum()>0:\n",
    "            Null_dict[column] = data[column].isnull().sum()\n",
    "\n",
    "        if (data[column]=='XNA').sum()>0:\n",
    "            Null_dict[column] = (data[column]=='XNA').sum()\n",
    "\n",
    "    for (key,value) in Null_dict.items():\n",
    "        Null_dict[key] = float(value)/data.shape[0]\n",
    "\n",
    "    def replace_binary_categorical_var(df, column_name):\n",
    "        categories = list(df[column_name].unique())\n",
    "        if np.nan in categories:\n",
    "            categories.remove(np.nan)\n",
    "        assert(len(categories) == 2)\n",
    "        df.loc[df[column_name] == categories[0], column_name] = 0\n",
    "        df.loc[df[column_name] == categories[1], column_name] = 1    \n",
    "\n",
    "    for element in data['FONDKAPREMONT_MODE']:\n",
    "        if element == 'XNA':\n",
    "            element = np.nan\n",
    "    # Name contract type is either Cash loans or Revolving loans\n",
    "    replace_binary_categorical_var(data, 'NAME_CONTRACT_TYPE')\n",
    "\n",
    "    # Gender is either male, female or N/A. We'll consider it binary\n",
    "    data['CODE_GENDER'] = data['CODE_GENDER'].replace('XNA', np.nan)\n",
    "    replace_binary_categorical_var(data, 'CODE_GENDER')\n",
    "\n",
    "    # FLAG_OWN_CAR and FLAG_OWN_REALTY are flags, either Y or N\n",
    "    replace_binary_categorical_var(data, 'FLAG_OWN_CAR')\n",
    "    replace_binary_categorical_var(data, 'FLAG_OWN_REALTY')\n",
    "\n",
    "    # We'll consider unknown to be N/A\n",
    "    data['NAME_FAMILY_STATUS'] = data['NAME_FAMILY_STATUS'].replace('Unknown', np.nan)\n",
    "\n",
    "    # All these are categorical\n",
    "    data = pd.get_dummies(data, columns=['NAME_TYPE_SUITE', 'NAME_INCOME_TYPE', 'NAME_EDUCATION_TYPE', 'NAME_FAMILY_STATUS', 'NAME_HOUSING_TYPE','OCCUPATION_TYPE','WEEKDAY_APPR_PROCESS_START','ORGANIZATION_TYPE','FONDKAPREMONT_MODE','HOUSETYPE_MODE','WALLSMATERIAL_MODE','EMERGENCYSTATE_MODE'])\n",
    "\n",
    "    data = data.fillna(data.median())\n",
    "    return data\n",
    "\n",
    "data = process_data(data)\n",
    "data_submission = process_data(data_submission)"
   ]
  },
  {
   "cell_type": "code",
   "execution_count": 105,
   "metadata": {},
   "outputs": [],
   "source": [
    "set(data.columns) - set(data_submission.columns)\n",
    "data_submission['NAME_INCOME_TYPE_Maternity leave'] = 0"
   ]
  },
  {
   "cell_type": "markdown",
   "metadata": {},
   "source": [
    "Bureau dataset "
   ]
  },
  {
   "cell_type": "code",
   "execution_count": 106,
   "metadata": {},
   "outputs": [],
   "source": [
    "data_bureau = pd.read_csv('data/bureau.csv')"
   ]
  },
  {
   "cell_type": "code",
   "execution_count": 107,
   "metadata": {},
   "outputs": [
    {
     "data": {
      "text/plain": [
       "SK_ID_CURR                  int64\n",
       "SK_ID_BUREAU                int64\n",
       "CREDIT_ACTIVE              object\n",
       "CREDIT_CURRENCY            object\n",
       "DAYS_CREDIT                 int64\n",
       "CREDIT_DAY_OVERDUE          int64\n",
       "DAYS_CREDIT_ENDDATE       float64\n",
       "DAYS_ENDDATE_FACT         float64\n",
       "AMT_CREDIT_MAX_OVERDUE    float64\n",
       "CNT_CREDIT_PROLONG          int64\n",
       "AMT_CREDIT_SUM            float64\n",
       "AMT_CREDIT_SUM_DEBT       float64\n",
       "AMT_CREDIT_SUM_LIMIT      float64\n",
       "AMT_CREDIT_SUM_OVERDUE    float64\n",
       "CREDIT_TYPE                object\n",
       "DAYS_CREDIT_UPDATE          int64\n",
       "AMT_ANNUITY               float64\n",
       "dtype: object"
      ]
     },
     "execution_count": 107,
     "metadata": {},
     "output_type": "execute_result"
    }
   ],
   "source": [
    "data_bureau.dtypes"
   ]
  },
  {
   "cell_type": "code",
   "execution_count": 108,
   "metadata": {},
   "outputs": [
    {
     "name": "stdout",
     "output_type": "stream",
     "text": [
      "{'CREDIT_CURRENCY': array(['currency 1', 'currency 2', 'currency 4', 'currency 3'],\n",
      "      dtype=object), 'CREDIT_TYPE': array(['Consumer credit', 'Credit card', 'Mortgage', 'Car loan',\n",
      "       'Microloan', 'Loan for working capital replenishment',\n",
      "       'Loan for business development', 'Real estate loan',\n",
      "       'Unknown type of loan', 'Another type of loan',\n",
      "       'Cash loan (non-earmarked)', 'Loan for the purchase of equipment',\n",
      "       'Mobile operator loan', 'Interbank credit',\n",
      "       'Loan for purchase of shares (margin lending)'], dtype=object), 'CREDIT_ACTIVE': array(['Closed', 'Active', 'Sold', 'Bad debt'], dtype=object)}\n"
     ]
    }
   ],
   "source": [
    "object_columns = ['CREDIT_ACTIVE','CREDIT_CURRENCY','CREDIT_TYPE']\n",
    "dic = dict()\n",
    "\n",
    "for column in lista:\n",
    "    dic[column] = data_bureau[column].unique()\n",
    "\n",
    "print(dic)"
   ]
  },
  {
   "cell_type": "code",
   "execution_count": 109,
   "metadata": {},
   "outputs": [
    {
     "data": {
      "text/plain": [
       "Consumer credit                                 1251615\n",
       "Credit card                                      402195\n",
       "Car loan                                          27690\n",
       "Mortgage                                          18391\n",
       "Microloan                                         12413\n",
       "Loan for business development                      1975\n",
       "Another type of loan                               1017\n",
       "Unknown type of loan                                555\n",
       "Loan for working capital replenishment              469\n",
       "Cash loan (non-earmarked)                            56\n",
       "Real estate loan                                     27\n",
       "Loan for the purchase of equipment                   19\n",
       "Loan for purchase of shares (margin lending)          4\n",
       "Interbank credit                                      1\n",
       "Mobile operator loan                                  1\n",
       "Name: CREDIT_TYPE, dtype: int64"
      ]
     },
     "execution_count": 109,
     "metadata": {},
     "output_type": "execute_result"
    }
   ],
   "source": [
    "data_bureau['CREDIT_TYPE'].value_counts()"
   ]
  },
  {
   "cell_type": "code",
   "execution_count": 110,
   "metadata": {},
   "outputs": [],
   "source": [
    "data_bureau = data_bureau.replace(['Mobile operator loan','Interbank credit','Loan for purchase of shares (margin lending)','Loan for purchase of equipment','Another type of loan','Unknown type of loan'],'Other')"
   ]
  },
  {
   "cell_type": "code",
   "execution_count": 111,
   "metadata": {},
   "outputs": [],
   "source": [
    "data_bureau = pd.get_dummies(data_bureau,columns = ['CREDIT_ACTIVE','CREDIT_CURRENCY','CREDIT_TYPE'])"
   ]
  },
  {
   "cell_type": "code",
   "execution_count": 112,
   "metadata": {},
   "outputs": [
    {
     "name": "stdout",
     "output_type": "stream",
     "text": [
      "{'CREDIT_ACTIVE_Closed': 0.0, 'CREDIT_ACTIVE_Sold': 0.0, 'CREDIT_TYPE_Car loan': 0.0, 'DAYS_CREDIT': 0.0, 'CREDIT_CURRENCY_currency 4': 0.0, 'CREDIT_CURRENCY_currency 1': 0.0, 'AMT_CREDIT_SUM_OVERDUE': 0.0, 'CREDIT_CURRENCY_currency 3': 0.0, 'CNT_CREDIT_PROLONG': 0.0, 'DAYS_CREDIT_UPDATE': 0.0, 'CREDIT_TYPE_Credit card': 0.0, 'CREDIT_TYPE_Other': 0.0, 'CREDIT_TYPE_Mortgage': 0.0, 'CREDIT_TYPE_Loan for business development': 0.0, 'AMT_CREDIT_SUM': 7.573868522303295e-06, 'CREDIT_TYPE_Microloan': 0.0, 'CREDIT_TYPE_Loan for working capital replenishment': 0.0, 'DAYS_CREDIT_ENDDATE': 0.06149573416420613, 'CREDIT_TYPE_Loan for the purchase of equipment': 0.0, 'CREDIT_ACTIVE_Active': 0.0, 'CREDIT_TYPE_Cash loan (non-earmarked)': 0.0, 'AMT_CREDIT_SUM_LIMIT': 0.3447741472406649, 'SK_ID_CURR': 0.0, 'AMT_CREDIT_SUM_DEBT': 0.15011931755948982, 'SK_ID_BUREAU': 0.0, 'AMT_ANNUITY': 0.714734902949614, 'CREDIT_DAY_OVERDUE': 0.0, 'CREDIT_ACTIVE_Bad debt': 0.0, 'CREDIT_TYPE_Real estate loan': 0.0, 'CREDIT_TYPE_Consumer credit': 0.0, 'CREDIT_CURRENCY_currency 2': 0.0, 'AMT_CREDIT_MAX_OVERDUE': 0.6551326359159837, 'DAYS_ENDDATE_FACT': 0.36916957775100384}\n"
     ]
    }
   ],
   "source": [
    "Null_dict = dict()\n",
    "\n",
    "for column in data_bureau.columns:\n",
    "    Null_dict[column] = 0\n",
    "\n",
    "for column in data_bureau.columns:\n",
    "    if data_bureau[column].isnull().sum()>0:\n",
    "        Null_dict[column] = data_bureau[column].isnull().sum()\n",
    "\n",
    "for (key,value) in Null_dict.items():\n",
    "    Null_dict[key] = float(value)/data_bureau.shape[0]\n",
    "\n",
    "print(Null_dict)"
   ]
  },
  {
   "cell_type": "code",
   "execution_count": 113,
   "metadata": {},
   "outputs": [],
   "source": [
    "data_bureau = data_bureau.drop(['AMT_ANNUITY','DAYS_CREDIT_UPDATE','CREDIT_CURRENCY_currency 1','CREDIT_CURRENCY_currency 2','CREDIT_CURRENCY_currency 3','CREDIT_CURRENCY_currency 4'],axis=1)"
   ]
  },
  {
   "cell_type": "code",
   "execution_count": 114,
   "metadata": {},
   "outputs": [],
   "source": [
    "data_bureau = data_bureau.fillna(data_bureau.median())"
   ]
  },
  {
   "cell_type": "code",
   "execution_count": 115,
   "metadata": {},
   "outputs": [
    {
     "data": {
      "text/plain": [
       "Index([u'SK_ID_CURR', u'SK_ID_BUREAU', u'DAYS_CREDIT', u'CREDIT_DAY_OVERDUE',\n",
       "       u'DAYS_CREDIT_ENDDATE', u'DAYS_ENDDATE_FACT', u'AMT_CREDIT_MAX_OVERDUE',\n",
       "       u'CNT_CREDIT_PROLONG', u'AMT_CREDIT_SUM', u'AMT_CREDIT_SUM_DEBT',\n",
       "       u'AMT_CREDIT_SUM_LIMIT', u'AMT_CREDIT_SUM_OVERDUE',\n",
       "       u'CREDIT_ACTIVE_Active', u'CREDIT_ACTIVE_Bad debt',\n",
       "       u'CREDIT_ACTIVE_Closed', u'CREDIT_ACTIVE_Sold', u'CREDIT_TYPE_Car loan',\n",
       "       u'CREDIT_TYPE_Cash loan (non-earmarked)',\n",
       "       u'CREDIT_TYPE_Consumer credit', u'CREDIT_TYPE_Credit card',\n",
       "       u'CREDIT_TYPE_Loan for business development',\n",
       "       u'CREDIT_TYPE_Loan for the purchase of equipment',\n",
       "       u'CREDIT_TYPE_Loan for working capital replenishment',\n",
       "       u'CREDIT_TYPE_Microloan', u'CREDIT_TYPE_Mortgage', u'CREDIT_TYPE_Other',\n",
       "       u'CREDIT_TYPE_Real estate loan'],\n",
       "      dtype='object')"
      ]
     },
     "execution_count": 115,
     "metadata": {},
     "output_type": "execute_result"
    }
   ],
   "source": [
    "data_bureau.columns"
   ]
  },
  {
   "cell_type": "code",
   "execution_count": 125,
   "metadata": {},
   "outputs": [],
   "source": [
    "data_bureau = data_bureau.groupby('SK_ID_CURR', as_index = False).agg({'SK_ID_BUREAU':'count','DAYS_CREDIT':'min','CREDIT_DAY_OVERDUE':'max','DAYS_CREDIT_ENDDATE':'max','DAYS_ENDDATE_FACT':'min','AMT_CREDIT_MAX_OVERDUE':['max','mean'],'CNT_CREDIT_PROLONG':['max','median'],'AMT_CREDIT_SUM':['max','median'],'AMT_CREDIT_SUM_DEBT':'sum','AMT_CREDIT_SUM_LIMIT':'max','AMT_CREDIT_SUM_OVERDUE':'sum','CREDIT_ACTIVE_Active':'count','CREDIT_ACTIVE_Bad debt':'count','CREDIT_ACTIVE_Closed':'count','CREDIT_ACTIVE_Sold':'count','CREDIT_TYPE_Car loan':'mean','CREDIT_TYPE_Cash loan (non-earmarked)':'mean','CREDIT_TYPE_Consumer credit':'mean','CREDIT_TYPE_Credit card':'mean','CREDIT_TYPE_Loan for business development':'mean','CREDIT_TYPE_Loan for the purchase of equipment':'mean','CREDIT_TYPE_Loan for working capital replenishment':'mean','CREDIT_TYPE_Microloan':'mean','CREDIT_TYPE_Mortgage':'mean','CREDIT_TYPE_Other':'mean','CREDIT_TYPE_Real estate loan':'mean'})\n",
    "data_bureau.columns = list(map('_'.join, data_bureau.columns.values))\n",
    "data_bureau = data_bureau.rename(columns={'SK_ID_CURR_': 'SK_ID_CURR'})"
   ]
  },
  {
   "cell_type": "code",
   "execution_count": 126,
   "metadata": {},
   "outputs": [
    {
     "data": {
      "text/html": [
       "<div>\n",
       "<style scoped>\n",
       "    .dataframe tbody tr th:only-of-type {\n",
       "        vertical-align: middle;\n",
       "    }\n",
       "\n",
       "    .dataframe tbody tr th {\n",
       "        vertical-align: top;\n",
       "    }\n",
       "\n",
       "    .dataframe thead th {\n",
       "        text-align: right;\n",
       "    }\n",
       "</style>\n",
       "<table border=\"1\" class=\"dataframe\">\n",
       "  <thead>\n",
       "    <tr style=\"text-align: right;\">\n",
       "      <th></th>\n",
       "      <th>SK_ID_CURR</th>\n",
       "      <th>CREDIT_ACTIVE_Closed_count</th>\n",
       "      <th>CREDIT_ACTIVE_Sold_count</th>\n",
       "      <th>AMT_CREDIT_SUM_DEBT_sum</th>\n",
       "      <th>DAYS_CREDIT_min</th>\n",
       "      <th>AMT_CREDIT_SUM_OVERDUE_sum</th>\n",
       "      <th>CNT_CREDIT_PROLONG_max</th>\n",
       "      <th>CNT_CREDIT_PROLONG_median</th>\n",
       "      <th>CREDIT_TYPE_Credit card_mean</th>\n",
       "      <th>CREDIT_TYPE_Other_mean</th>\n",
       "      <th>...</th>\n",
       "      <th>AMT_CREDIT_SUM_LIMIT_max</th>\n",
       "      <th>CREDIT_TYPE_Car loan_mean</th>\n",
       "      <th>SK_ID_BUREAU_count</th>\n",
       "      <th>CREDIT_DAY_OVERDUE_max</th>\n",
       "      <th>CREDIT_ACTIVE_Bad debt_count</th>\n",
       "      <th>CREDIT_TYPE_Real estate loan_mean</th>\n",
       "      <th>CREDIT_TYPE_Consumer credit_mean</th>\n",
       "      <th>AMT_CREDIT_MAX_OVERDUE_max</th>\n",
       "      <th>AMT_CREDIT_MAX_OVERDUE_mean</th>\n",
       "      <th>DAYS_ENDDATE_FACT_min</th>\n",
       "    </tr>\n",
       "  </thead>\n",
       "  <tbody>\n",
       "    <tr>\n",
       "      <th>0</th>\n",
       "      <td>100001</td>\n",
       "      <td>7</td>\n",
       "      <td>7</td>\n",
       "      <td>596686.5</td>\n",
       "      <td>-1572</td>\n",
       "      <td>0.0</td>\n",
       "      <td>0</td>\n",
       "      <td>0.0</td>\n",
       "      <td>0.000000</td>\n",
       "      <td>0.0</td>\n",
       "      <td>...</td>\n",
       "      <td>0.000</td>\n",
       "      <td>0.0</td>\n",
       "      <td>7</td>\n",
       "      <td>0</td>\n",
       "      <td>7</td>\n",
       "      <td>0.0</td>\n",
       "      <td>1.000000</td>\n",
       "      <td>0.000</td>\n",
       "      <td>0.000000</td>\n",
       "      <td>-1328.0</td>\n",
       "    </tr>\n",
       "    <tr>\n",
       "      <th>1</th>\n",
       "      <td>100002</td>\n",
       "      <td>8</td>\n",
       "      <td>8</td>\n",
       "      <td>245781.0</td>\n",
       "      <td>-1437</td>\n",
       "      <td>0.0</td>\n",
       "      <td>0</td>\n",
       "      <td>0.0</td>\n",
       "      <td>0.500000</td>\n",
       "      <td>0.0</td>\n",
       "      <td>...</td>\n",
       "      <td>31988.565</td>\n",
       "      <td>0.0</td>\n",
       "      <td>8</td>\n",
       "      <td>0</td>\n",
       "      <td>8</td>\n",
       "      <td>0.0</td>\n",
       "      <td>0.500000</td>\n",
       "      <td>5043.645</td>\n",
       "      <td>1050.643125</td>\n",
       "      <td>-1185.0</td>\n",
       "    </tr>\n",
       "    <tr>\n",
       "      <th>2</th>\n",
       "      <td>100003</td>\n",
       "      <td>4</td>\n",
       "      <td>4</td>\n",
       "      <td>0.0</td>\n",
       "      <td>-2586</td>\n",
       "      <td>0.0</td>\n",
       "      <td>0</td>\n",
       "      <td>0.0</td>\n",
       "      <td>0.500000</td>\n",
       "      <td>0.0</td>\n",
       "      <td>...</td>\n",
       "      <td>810000.000</td>\n",
       "      <td>0.0</td>\n",
       "      <td>4</td>\n",
       "      <td>0</td>\n",
       "      <td>4</td>\n",
       "      <td>0.0</td>\n",
       "      <td>0.500000</td>\n",
       "      <td>0.000</td>\n",
       "      <td>0.000000</td>\n",
       "      <td>-2131.0</td>\n",
       "    </tr>\n",
       "    <tr>\n",
       "      <th>3</th>\n",
       "      <td>100004</td>\n",
       "      <td>2</td>\n",
       "      <td>2</td>\n",
       "      <td>0.0</td>\n",
       "      <td>-1326</td>\n",
       "      <td>0.0</td>\n",
       "      <td>0</td>\n",
       "      <td>0.0</td>\n",
       "      <td>0.000000</td>\n",
       "      <td>0.0</td>\n",
       "      <td>...</td>\n",
       "      <td>0.000</td>\n",
       "      <td>0.0</td>\n",
       "      <td>2</td>\n",
       "      <td>0</td>\n",
       "      <td>2</td>\n",
       "      <td>0.0</td>\n",
       "      <td>1.000000</td>\n",
       "      <td>0.000</td>\n",
       "      <td>0.000000</td>\n",
       "      <td>-683.0</td>\n",
       "    </tr>\n",
       "    <tr>\n",
       "      <th>4</th>\n",
       "      <td>100005</td>\n",
       "      <td>3</td>\n",
       "      <td>3</td>\n",
       "      <td>568408.5</td>\n",
       "      <td>-373</td>\n",
       "      <td>0.0</td>\n",
       "      <td>0</td>\n",
       "      <td>0.0</td>\n",
       "      <td>0.333333</td>\n",
       "      <td>0.0</td>\n",
       "      <td>...</td>\n",
       "      <td>0.000</td>\n",
       "      <td>0.0</td>\n",
       "      <td>3</td>\n",
       "      <td>0</td>\n",
       "      <td>3</td>\n",
       "      <td>0.0</td>\n",
       "      <td>0.666667</td>\n",
       "      <td>0.000</td>\n",
       "      <td>0.000000</td>\n",
       "      <td>-897.0</td>\n",
       "    </tr>\n",
       "  </tbody>\n",
       "</table>\n",
       "<p>5 rows × 30 columns</p>\n",
       "</div>"
      ],
      "text/plain": [
       "   SK_ID_CURR  CREDIT_ACTIVE_Closed_count  CREDIT_ACTIVE_Sold_count  \\\n",
       "0      100001                           7                         7   \n",
       "1      100002                           8                         8   \n",
       "2      100003                           4                         4   \n",
       "3      100004                           2                         2   \n",
       "4      100005                           3                         3   \n",
       "\n",
       "   AMT_CREDIT_SUM_DEBT_sum  DAYS_CREDIT_min  AMT_CREDIT_SUM_OVERDUE_sum  \\\n",
       "0                 596686.5            -1572                         0.0   \n",
       "1                 245781.0            -1437                         0.0   \n",
       "2                      0.0            -2586                         0.0   \n",
       "3                      0.0            -1326                         0.0   \n",
       "4                 568408.5             -373                         0.0   \n",
       "\n",
       "   CNT_CREDIT_PROLONG_max  CNT_CREDIT_PROLONG_median  \\\n",
       "0                       0                        0.0   \n",
       "1                       0                        0.0   \n",
       "2                       0                        0.0   \n",
       "3                       0                        0.0   \n",
       "4                       0                        0.0   \n",
       "\n",
       "   CREDIT_TYPE_Credit card_mean  CREDIT_TYPE_Other_mean  \\\n",
       "0                      0.000000                     0.0   \n",
       "1                      0.500000                     0.0   \n",
       "2                      0.500000                     0.0   \n",
       "3                      0.000000                     0.0   \n",
       "4                      0.333333                     0.0   \n",
       "\n",
       "           ...            AMT_CREDIT_SUM_LIMIT_max  CREDIT_TYPE_Car loan_mean  \\\n",
       "0          ...                               0.000                        0.0   \n",
       "1          ...                           31988.565                        0.0   \n",
       "2          ...                          810000.000                        0.0   \n",
       "3          ...                               0.000                        0.0   \n",
       "4          ...                               0.000                        0.0   \n",
       "\n",
       "   SK_ID_BUREAU_count  CREDIT_DAY_OVERDUE_max  CREDIT_ACTIVE_Bad debt_count  \\\n",
       "0                   7                       0                             7   \n",
       "1                   8                       0                             8   \n",
       "2                   4                       0                             4   \n",
       "3                   2                       0                             2   \n",
       "4                   3                       0                             3   \n",
       "\n",
       "   CREDIT_TYPE_Real estate loan_mean  CREDIT_TYPE_Consumer credit_mean  \\\n",
       "0                                0.0                          1.000000   \n",
       "1                                0.0                          0.500000   \n",
       "2                                0.0                          0.500000   \n",
       "3                                0.0                          1.000000   \n",
       "4                                0.0                          0.666667   \n",
       "\n",
       "   AMT_CREDIT_MAX_OVERDUE_max  AMT_CREDIT_MAX_OVERDUE_mean  \\\n",
       "0                       0.000                     0.000000   \n",
       "1                    5043.645                  1050.643125   \n",
       "2                       0.000                     0.000000   \n",
       "3                       0.000                     0.000000   \n",
       "4                       0.000                     0.000000   \n",
       "\n",
       "   DAYS_ENDDATE_FACT_min  \n",
       "0                -1328.0  \n",
       "1                -1185.0  \n",
       "2                -2131.0  \n",
       "3                 -683.0  \n",
       "4                 -897.0  \n",
       "\n",
       "[5 rows x 30 columns]"
      ]
     },
     "execution_count": 126,
     "metadata": {},
     "output_type": "execute_result"
    }
   ],
   "source": [
    "data_bureau.head()"
   ]
  },
  {
   "cell_type": "code",
   "execution_count": 127,
   "metadata": {},
   "outputs": [],
   "source": [
    "data = data.merge(data_bureau, on= 'SK_ID_CURR',how='left')"
   ]
  },
  {
   "cell_type": "code",
   "execution_count": 128,
   "metadata": {},
   "outputs": [],
   "source": [
    "data_submission = data_submission.merge(data_bureau, on= 'SK_ID_CURR',how='left')"
   ]
  },
  {
   "cell_type": "code",
   "execution_count": 129,
   "metadata": {},
   "outputs": [
    {
     "data": {
      "text/plain": [
       "Index([u'SK_ID_CURR', u'CREDIT_ACTIVE_Closed_count',\n",
       "       u'CREDIT_ACTIVE_Sold_count', u'AMT_CREDIT_SUM_DEBT_sum',\n",
       "       u'DAYS_CREDIT_min', u'AMT_CREDIT_SUM_OVERDUE_sum',\n",
       "       u'CNT_CREDIT_PROLONG_max', u'CNT_CREDIT_PROLONG_median',\n",
       "       u'CREDIT_TYPE_Credit card_mean', u'CREDIT_TYPE_Other_mean',\n",
       "       u'CREDIT_TYPE_Mortgage_mean',\n",
       "       u'CREDIT_TYPE_Loan for business development_mean',\n",
       "       u'AMT_CREDIT_SUM_max', u'AMT_CREDIT_SUM_median',\n",
       "       u'CREDIT_TYPE_Microloan_mean',\n",
       "       u'CREDIT_TYPE_Loan for working capital replenishment_mean',\n",
       "       u'DAYS_CREDIT_ENDDATE_max',\n",
       "       u'CREDIT_TYPE_Loan for the purchase of equipment_mean',\n",
       "       u'CREDIT_ACTIVE_Active_count',\n",
       "       u'CREDIT_TYPE_Cash loan (non-earmarked)_mean',\n",
       "       u'AMT_CREDIT_SUM_LIMIT_max', u'CREDIT_TYPE_Car loan_mean',\n",
       "       u'SK_ID_BUREAU_count', u'CREDIT_DAY_OVERDUE_max',\n",
       "       u'CREDIT_ACTIVE_Bad debt_count', u'CREDIT_TYPE_Real estate loan_mean',\n",
       "       u'CREDIT_TYPE_Consumer credit_mean', u'AMT_CREDIT_MAX_OVERDUE_max',\n",
       "       u'AMT_CREDIT_MAX_OVERDUE_mean', u'DAYS_ENDDATE_FACT_min'],\n",
       "      dtype='object')"
      ]
     },
     "execution_count": 129,
     "metadata": {},
     "output_type": "execute_result"
    }
   ],
   "source": [
    "data_bureau.columns"
   ]
  },
  {
   "cell_type": "code",
   "execution_count": 131,
   "metadata": {},
   "outputs": [],
   "source": [
    "Null_dic = dict()\n",
    "\n",
    "for column in ['DAYS_CREDIT_min','DAYS_ENDDATE_FACT_min','AMT_CREDIT_SUM_LIMIT_max','DAYS_CREDIT_ENDDATE_max']:\n",
    "    Null_dic[column] = data_bureau[column].median()\n",
    "\n",
    "\n",
    "data = data.fillna(Null_dic)\n",
    "data = data.fillna(0)\n",
    "\n",
    "data_submission= data_submission.fillna(Null_dic)\n",
    "data_submission= data_submission.fillna(0)"
   ]
  },
  {
   "cell_type": "code",
   "execution_count": null,
   "metadata": {},
   "outputs": [],
   "source": []
  },
  {
   "cell_type": "code",
   "execution_count": null,
   "metadata": {},
   "outputs": [],
   "source": []
  }
 ],
 "metadata": {
  "kernelspec": {
   "display_name": "Python 2",
   "language": "python",
   "name": "python2"
  },
  "language_info": {
   "codemirror_mode": {
    "name": "ipython",
    "version": 2
   },
   "file_extension": ".py",
   "mimetype": "text/x-python",
   "name": "python",
   "nbconvert_exporter": "python",
   "pygments_lexer": "ipython2",
   "version": "2.7.12"
  }
 },
 "nbformat": 4,
 "nbformat_minor": 2
}
