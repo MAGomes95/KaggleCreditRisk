{
 "cells": [
  {
   "cell_type": "markdown",
   "metadata": {},
   "source": [
    "Cleaning of the dataset Instalments_Payments"
   ]
  },
  {
   "cell_type": "code",
   "execution_count": 1,
   "metadata": {},
   "outputs": [],
   "source": [
    "import pandas as pd\n",
    "import numpy as np"
   ]
  },
  {
   "cell_type": "code",
   "execution_count": 2,
   "metadata": {},
   "outputs": [],
   "source": [
    "instal = pd.read_csv('data/installments_payments.csv')\n",
    "\n",
    "instal = instal[pd.notna(instal['DAYS_ENTRY_PAYMENT'])].drop(['NUM_INSTALMENT_VERSION','NUM_INSTALMENT_NUMBER'],axis = 1)\n",
    "\n",
    "instal['DAYS_INSTALMENT_new'] = 0\n",
    "instal['DAYS_ENTRY_PAYMENT_new'] = 0\n",
    "\n",
    "instal.loc[instal['DAYS_INSTALMENT'] < -365 , 'DAYS_INSTALMENT_new'] = 1\n",
    "instal.loc[instal['DAYS_ENTRY_PAYMENT'] < -365, 'DAYS_ENTRY_PAYMENT_new'] = 1\n",
    "\n",
    "instal = instal.drop(['DAYS_INSTALMENT','DAYS_ENTRY_PAYMENT'],axis = 1)\n",
    "instal = instal.rename(columns = {'DAYS_INSTALMENT_new':'DAYS_INSTALMENT','DAYS_ENTRY_PAYMENT_new':'DAYS_ENTRY_PAYMENT'})\n",
    "\n",
    "instal = instal.groupby(by=['SK_ID_PREV','SK_ID_CURR']).agg({'DAYS_INSTALMENT':'mean','DAYS_ENTRY_PAYMENT':'mean','AMT_INSTALMENT':'median','AMT_PAYMENT':'median'})\n",
    "instal = instal.groupby(by='SK_ID_CURR').agg({'DAYS_INSTALMENT':'mean','DAYS_ENTRY_PAYMENT':'mean','AMT_INSTALMENT':'median','AMT_PAYMENT':'median'})"
   ]
  },
  {
   "cell_type": "code",
   "execution_count": null,
   "metadata": {},
   "outputs": [],
   "source": []
  },
  {
   "cell_type": "code",
   "execution_count": null,
   "metadata": {},
   "outputs": [],
   "source": []
  },
  {
   "cell_type": "code",
   "execution_count": null,
   "metadata": {},
   "outputs": [],
   "source": []
  }
 ],
 "metadata": {
  "kernelspec": {
   "display_name": "Python 2",
   "language": "python",
   "name": "python2"
  },
  "language_info": {
   "codemirror_mode": {
    "name": "ipython",
    "version": 2
   },
   "file_extension": ".py",
   "mimetype": "text/x-python",
   "name": "python",
   "nbconvert_exporter": "python",
   "pygments_lexer": "ipython2",
   "version": "2.7.14"
  }
 },
 "nbformat": 4,
 "nbformat_minor": 2
}
