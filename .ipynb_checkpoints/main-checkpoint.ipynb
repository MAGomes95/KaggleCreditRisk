{
 "cells": [
  {
   "cell_type": "code",
   "execution_count": 24,
   "metadata": {},
   "outputs": [],
   "source": [
    "import pandas as pd\n",
    "import numpy as np\n",
    "from sklearn.metrics import roc_auc_score\n",
    "from sklearn.model_selection import train_test_split\n",
    "from xgboost import XGBClassifier\n",
    "from sklearn.metrics import confusion_matrix\n",
    "from sklearn.model_selection import cross_val_predict\n",
    "from sklearn.preprocessing import MinMaxScaler\n",
    "from lightgbm import LGBMClassifier"
   ]
  },
  {
   "cell_type": "code",
   "execution_count": 15,
   "metadata": {},
   "outputs": [],
   "source": [
    "\n",
    "data = pd.read_csv('data/application_train.csv')\n",
    "data_submission = pd.read_csv('data/application_test.csv')\n",
    "submission_id = data_submission['SK_ID_CURR']\n",
    "\n",
    "def process_data(data):\n",
    "    Null_dict = dict()\n",
    "\n",
    "    for column in ['NAME_HOUSING_TYPE','OCCUPATION_TYPE','WEEKDAY_APPR_PROCESS_START','ORGANIZATION_TYPE','FONDKAPREMONT_MODE','HOUSETYPE_MODE','WALLSMATERIAL_MODE','EMERGENCYSTATE_MODE']:\n",
    "        Null_dict[column] = 0\n",
    "\n",
    "\n",
    "    for column in ['NAME_HOUSING_TYPE','OCCUPATION_TYPE','WEEKDAY_APPR_PROCESS_START','ORGANIZATION_TYPE','FONDKAPREMONT_MODE','HOUSETYPE_MODE','WALLSMATERIAL_MODE','EMERGENCYSTATE_MODE']:\n",
    "        if data[column].isnull().sum()>0:\n",
    "            Null_dict[column] = data[column].isnull().sum()\n",
    "\n",
    "        if (data[column]=='XNA').sum()>0:\n",
    "            Null_dict[column] = (data[column]=='XNA').sum()\n",
    "\n",
    "    for (key,value) in Null_dict.items():\n",
    "        Null_dict[key] = float(value)/data.shape[0]\n",
    "\n",
    "    def replace_binary_categorical_var(df, column_name):\n",
    "        categories = list(df[column_name].unique())\n",
    "        if np.nan in categories:\n",
    "            categories.remove(np.nan)\n",
    "        assert(len(categories) == 2)\n",
    "        df.loc[df[column_name] == categories[0], column_name] = 0\n",
    "        df.loc[df[column_name] == categories[1], column_name] = 1    \n",
    "        \n",
    "        \n",
    "    for col, dtype in data.dtypes.iteritems():\n",
    "        if np.issubdtype(dtype, np.number) and col != 'TARGET':\n",
    "            data[col + '_/(AMT_CREDIT)'] = data[col] / data['AMT_CREDIT']\n",
    "\n",
    "    data['FONDKAPREMONT_MODE'] = data['FONDKAPREMONT_MODE'].replace('XNA', np.nan)\n",
    "\n",
    "    # Name contract type is either Cash loans or Revolving loans\n",
    "    replace_binary_categorical_var(data, 'NAME_CONTRACT_TYPE')\n",
    "\n",
    "    # Gender is either male, female or N/A. We'll consider it binary\n",
    "    data['CODE_GENDER'] = data['CODE_GENDER'].replace('XNA', np.nan)\n",
    "    replace_binary_categorical_var(data, 'CODE_GENDER')\n",
    "\n",
    "    # FLAG_OWN_CAR and FLAG_OWN_REALTY are flags, either Y or N\n",
    "    replace_binary_categorical_var(data, 'FLAG_OWN_CAR')\n",
    "    replace_binary_categorical_var(data, 'FLAG_OWN_REALTY')\n",
    "\n",
    "    # We'll consider unknown to be N/A\n",
    "    data['NAME_FAMILY_STATUS'] = data['NAME_FAMILY_STATUS'].replace('Unknown', np.nan)\n",
    "\n",
    "    # All these are categorical\n",
    "    data = pd.get_dummies(data, columns=['NAME_TYPE_SUITE', 'NAME_INCOME_TYPE', 'NAME_EDUCATION_TYPE', 'NAME_FAMILY_STATUS', 'NAME_HOUSING_TYPE','OCCUPATION_TYPE','WEEKDAY_APPR_PROCESS_START','ORGANIZATION_TYPE','FONDKAPREMONT_MODE','HOUSETYPE_MODE','WALLSMATERIAL_MODE','EMERGENCYSTATE_MODE'])\n",
    "\n",
    "    data = data.fillna(data.median())\n",
    "\n",
    "    data = data.drop('SK_ID_CURR', axis=1)\n",
    "    return data\n",
    "\n",
    "data = process_data(data)\n",
    "data_submission = process_data(data_submission)"
   ]
  },
  {
   "cell_type": "code",
   "execution_count": 16,
   "metadata": {},
   "outputs": [
    {
     "name": "stdout",
     "output_type": "stream",
     "text": [
      "set(['NAME_INCOME_TYPE_Maternity leave', 'TARGET'])\n"
     ]
    }
   ],
   "source": [
    "print(set(data.columns) - set(data_submission.columns))\n",
    "data_submission['NAME_INCOME_TYPE_Maternity leave'] = 0"
   ]
  },
  {
   "cell_type": "code",
   "execution_count": 17,
   "metadata": {},
   "outputs": [],
   "source": [
    "data_x = data.drop('TARGET', axis=1).as_matrix()\n",
    "data_y = data['TARGET'].as_matrix()\n",
    "data_submission = data_submission.as_matrix()\n",
    "\n",
    "train_x, test_x, train_y, test_y = train_test_split(data_x, data_y, test_size=0.05)\n",
    "del data_x, data_y"
   ]
  },
  {
   "cell_type": "code",
   "execution_count": 18,
   "metadata": {},
   "outputs": [],
   "source": [
    "scaler = MinMaxScaler()\n",
    "train_x = scaler.fit_transform(train_x)\n",
    "test_x = scaler.transform(test_x)\n",
    "data_submission = scaler.transform(data_submission)"
   ]
  },
  {
   "cell_type": "code",
   "execution_count": 19,
   "metadata": {},
   "outputs": [
    {
     "name": "stderr",
     "output_type": "stream",
     "text": [
      "/home/goncalo/.local/lib/python2.7/site-packages/sklearn/linear_model/base.py:35: RuntimeWarning: numpy.dtype size changed, may indicate binary incompatibility. Expected 96, got 88\n",
      "  from ..utils.seq_dataset import ArrayDataset, CSRDataset\n",
      "/home/goncalo/.local/lib/python2.7/site-packages/sklearn/linear_model/least_angle.py:23: RuntimeWarning: numpy.dtype size changed, may indicate binary incompatibility. Expected 96, got 88\n",
      "  from ..utils import arrayfuncs, as_float_array, check_X_y, deprecated\n",
      "/home/goncalo/.local/lib/python2.7/site-packages/sklearn/linear_model/coordinate_descent.py:29: RuntimeWarning: numpy.dtype size changed, may indicate binary incompatibility. Expected 96, got 88\n",
      "  from . import cd_fast\n",
      "/home/goncalo/.local/lib/python2.7/site-packages/sklearn/linear_model/__init__.py:22: RuntimeWarning: numpy.dtype size changed, may indicate binary incompatibility. Expected 96, got 88\n",
      "  from .sgd_fast import Hinge, Log, ModifiedHuber, SquaredLoss, Huber\n",
      "/home/goncalo/.local/lib/python2.7/site-packages/sklearn/linear_model/sag.py:12: RuntimeWarning: numpy.dtype size changed, may indicate binary incompatibility. Expected 96, got 88\n",
      "  from .sag_fast import sag\n",
      "/home/goncalo/.local/lib/python2.7/site-packages/sklearn/svm/base.py:8: RuntimeWarning: numpy.dtype size changed, may indicate binary incompatibility. Expected 96, got 88\n",
      "  from . import libsvm, liblinear\n",
      "/home/goncalo/.local/lib/python2.7/site-packages/sklearn/svm/base.py:9: RuntimeWarning: numpy.dtype size changed, may indicate binary incompatibility. Expected 96, got 88\n",
      "  from . import libsvm_sparse\n",
      "/home/goncalo/.local/lib/python2.7/site-packages/sklearn/neighbors/__init__.py:6: RuntimeWarning: numpy.dtype size changed, may indicate binary incompatibility. Expected 96, got 88\n",
      "  from .ball_tree import BallTree\n",
      "/home/goncalo/.local/lib/python2.7/site-packages/sklearn/neighbors/__init__.py:7: RuntimeWarning: numpy.dtype size changed, may indicate binary incompatibility. Expected 96, got 88\n",
      "  from .kd_tree import KDTree\n"
     ]
    },
    {
     "data": {
      "text/plain": [
       "LogisticRegression(C=1.0, class_weight=None, dual=False, fit_intercept=True,\n",
       "          intercept_scaling=1, max_iter=100, multi_class='ovr', n_jobs=1,\n",
       "          penalty='l2', random_state=None, solver='liblinear', tol=0.0001,\n",
       "          verbose=0, warm_start=False)"
      ]
     },
     "execution_count": 19,
     "metadata": {},
     "output_type": "execute_result"
    }
   ],
   "source": [
    "from sklearn.linear_model import LogisticRegression\n",
    "\n",
    "lr = LogisticRegression()\n",
    "lr.fit(train_x, train_y)"
   ]
  },
  {
   "cell_type": "code",
   "execution_count": 20,
   "metadata": {},
   "outputs": [
    {
     "data": {
      "text/plain": [
       "0.7525504705149396"
      ]
     },
     "execution_count": 20,
     "metadata": {},
     "output_type": "execute_result"
    }
   ],
   "source": [
    "roc_auc_score(test_y, lr.predict_proba(test_x)[:,1])"
   ]
  },
  {
   "cell_type": "code",
   "execution_count": 25,
   "metadata": {},
   "outputs": [
    {
     "data": {
      "text/plain": [
       "LGBMClassifier(boosting_type='gbdt', class_weight=None, colsample_bytree=1.0,\n",
       "        learning_rate=0.1, max_depth=-1, min_child_samples=20,\n",
       "        min_child_weight=0.001, min_split_gain=0.0, n_estimators=100,\n",
       "        n_jobs=-1, num_leaves=31, objective=None, random_state=None,\n",
       "        reg_alpha=0.0, reg_lambda=0.0, silent=True, subsample=1.0,\n",
       "        subsample_for_bin=200000, subsample_freq=0)"
      ]
     },
     "execution_count": 25,
     "metadata": {},
     "output_type": "execute_result"
    }
   ],
   "source": [
    "lgbm = LGBMClassifier()\n",
    "lgbm.fit(train_x, train_y)"
   ]
  },
  {
   "cell_type": "code",
   "execution_count": 26,
   "metadata": {},
   "outputs": [
    {
     "data": {
      "text/plain": [
       "0.7638441398538572"
      ]
     },
     "execution_count": 26,
     "metadata": {},
     "output_type": "execute_result"
    }
   ],
   "source": [
    "roc_auc_score(test_y, lgbm.predict_proba(test_x)[:,1])"
   ]
  },
  {
   "cell_type": "code",
   "execution_count": 31,
   "metadata": {},
   "outputs": [
    {
     "name": "stdout",
     "output_type": "stream",
     "text": [
      "TOP 20 Importances\n",
      "255\tAMT_ANNUITY_/(AMT_CREDIT)\n",
      "172\tEXT_SOURCE_3\n",
      "160\tEXT_SOURCE_1\n",
      "145\tEXT_SOURCE_2\n",
      "145\tDAYS_BIRTH\n",
      "106\tAMT_GOODS_PRICE_/(AMT_CREDIT)\n",
      "80\tEXT_SOURCE_1_/(AMT_CREDIT)\n",
      "74\tDAYS_ID_PUBLISH\n",
      "69\tDAYS_EMPLOYED\n",
      "53\tAMT_ANNUITY\n",
      "52\tEXT_SOURCE_3_/(AMT_CREDIT)\n",
      "51\tDAYS_EMPLOYED_/(AMT_CREDIT)\n",
      "47\tDAYS_REGISTRATION_/(AMT_CREDIT)\n",
      "45\tDAYS_LAST_PHONE_CHANGE\n",
      "42\tAMT_GOODS_PRICE\n",
      "41\tDAYS_REGISTRATION\n",
      "41\tCODE_GENDER\n",
      "40\tAMT_INCOME_TOTAL_/(AMT_CREDIT)\n",
      "38\tFLAG_DOCUMENT_3_/(AMT_CREDIT)\n",
      "38\tAMT_REQ_CREDIT_BUREAU_YEAR_/(AMT_CREDIT)\n"
     ]
    }
   ],
   "source": [
    "print('TOP 20 Importances')\n",
    "for importance, col in sorted(zip(list(lgbm.feature_importances_), list(data.columns)[1:]), reverse=True)[:20]:\n",
    "    print(str(importance) + '\\t' + col)"
   ]
  },
  {
   "cell_type": "code",
   "execution_count": 32,
   "metadata": {},
   "outputs": [
    {
     "name": "stderr",
     "output_type": "stream",
     "text": [
      "/home/goncalo/.local/lib/python2.7/site-packages/sklearn/preprocessing/label.py:151: DeprecationWarning: The truth value of an empty array is ambiguous. Returning False, but in future this will result in an error. Use `array.size > 0` to check that an array is not empty.\n",
      "  if diff:\n"
     ]
    },
    {
     "data": {
      "text/plain": [
       "array([[14082,    17],\n",
       "       [ 1251,    26]])"
      ]
     },
     "execution_count": 32,
     "metadata": {},
     "output_type": "execute_result"
    }
   ],
   "source": [
    "confusion_matrix(test_y,lgbm.predict(test_x))"
   ]
  },
  {
   "cell_type": "code",
   "execution_count": 17,
   "metadata": {},
   "outputs": [
    {
     "data": {
      "text/plain": [
       "array([0, 0, 0, ..., 0, 0, 0])"
      ]
     },
     "execution_count": 17,
     "metadata": {},
     "output_type": "execute_result"
    }
   ],
   "source": [
    "proba = cross_val_predict(xgb,train_x,train_y, method='predict_proba')"
   ]
  },
  {
   "cell_type": "code",
   "execution_count": 33,
   "metadata": {},
   "outputs": [],
   "source": [
    "predicted = lgbm.predict_proba(data_submission)[:, 1]\n",
    "\n",
    "results = pd.DataFrame({'SK_ID_CURR': submission_id, 'TARGET': predicted})\n",
    "\n",
    "results.to_csv('predictions.csv', index=False)"
   ]
  },
  {
   "cell_type": "code",
   "execution_count": null,
   "metadata": {},
   "outputs": [],
   "source": []
  }
 ],
 "metadata": {
  "kernelspec": {
   "display_name": "Python 2",
   "language": "python",
   "name": "python2"
  },
  "language_info": {
   "codemirror_mode": {
    "name": "ipython",
    "version": 2
   },
   "file_extension": ".py",
   "mimetype": "text/x-python",
   "name": "python",
   "nbconvert_exporter": "python",
   "pygments_lexer": "ipython2",
   "version": "2.7.14"
  }
 },
 "nbformat": 4,
 "nbformat_minor": 2
}
